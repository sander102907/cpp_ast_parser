{
 "cells": [
  {
   "cell_type": "code",
   "execution_count": 80,
   "metadata": {},
   "outputs": [],
   "source": [
    "import clang.cindex\n",
    "from clang.cindex import CursorKind\n",
    "from anytree import RenderTree\n",
    "from tree_node import Node\n",
    "import utils\n",
    "from node_handler import *\n",
    "import re\n",
    "import subprocess\n",
    "import pexpect\n",
    "from tqdm import tqdm\n",
    "import re\n",
    "import pandas as pd\n",
    "import os\n",
    "import subprocess\n",
    "import pexpect\n"
   ]
  },
  {
   "cell_type": "code",
   "execution_count": 84,
   "metadata": {},
   "outputs": [
    {
     "output_type": "error",
     "ename": "TypeError",
     "evalue": "string argument without an encoding",
     "traceback": [
      "\u001b[0;31m---------------------------------------------------------------------------\u001b[0m",
      "\u001b[0;31mTypeError\u001b[0m                                 Traceback (most recent call last)",
      "\u001b[0;32m<ipython-input-84-c37a25b259d8>\u001b[0m in \u001b[0;36m<module>\u001b[0;34m\u001b[0m\n\u001b[1;32m     13\u001b[0m \u001b[0;34m\u001b[0m\u001b[0m\n\u001b[1;32m     14\u001b[0m \u001b[0mp\u001b[0m \u001b[0;34m=\u001b[0m \u001b[0msubprocess\u001b[0m\u001b[0;34m.\u001b[0m\u001b[0mPopen\u001b[0m\u001b[0;34m(\u001b[0m\u001b[0;34m[\u001b[0m\u001b[0;34m'g++'\u001b[0m\u001b[0;34m,\u001b[0m \u001b[0;34m'-x'\u001b[0m\u001b[0;34m,\u001b[0m \u001b[0;34m'c++'\u001b[0m\u001b[0;34m,\u001b[0m \u001b[0;34m'-Wall'\u001b[0m\u001b[0;34m,\u001b[0m \u001b[0;34m'-o'\u001b[0m\u001b[0;34m,\u001b[0m \u001b[0;34m'myprog'\u001b[0m \u001b[0;34m'/dev/stdin'\u001b[0m\u001b[0;34m]\u001b[0m\u001b[0;34m,\u001b[0m \u001b[0mstdin\u001b[0m\u001b[0;34m=\u001b[0m\u001b[0msubprocess\u001b[0m\u001b[0;34m.\u001b[0m\u001b[0mPIPE\u001b[0m\u001b[0;34m,\u001b[0m \u001b[0mstdout\u001b[0m\u001b[0;34m=\u001b[0m\u001b[0msubprocess\u001b[0m\u001b[0;34m.\u001b[0m\u001b[0mPIPE\u001b[0m\u001b[0;34m,\u001b[0m \u001b[0mstderr\u001b[0m\u001b[0;34m=\u001b[0m\u001b[0msubprocess\u001b[0m\u001b[0;34m.\u001b[0m\u001b[0mPIPE\u001b[0m\u001b[0;34m)\u001b[0m\u001b[0;34m\u001b[0m\u001b[0;34m\u001b[0m\u001b[0m\n\u001b[0;32m---> 15\u001b[0;31m \u001b[0mp\u001b[0m\u001b[0;34m.\u001b[0m\u001b[0mcommunicate\u001b[0m\u001b[0;34m(\u001b[0m\u001b[0mbytes\u001b[0m\u001b[0;34m(\u001b[0m\u001b[0mprogram\u001b[0m\u001b[0;34m)\u001b[0m\u001b[0;34m)\u001b[0m\u001b[0;34m\u001b[0m\u001b[0;34m\u001b[0m\u001b[0m\n\u001b[0m",
      "\u001b[0;31mTypeError\u001b[0m: string argument without an encoding"
     ]
    }
   ],
   "source": [
    "program = \"\"\"#define ONLINE_JUDGE \n",
    "// program to add two numbers using a function\n",
    "\n",
    "#include <iostream>\n",
    "\n",
    "using namespace std;\n",
    "\n",
    "// declaring a function\n",
    "int add(int a, int b) {\n",
    "    return (a + b);\n",
    "}\"\"\"\n",
    "\n",
    "\n",
    "p = subprocess.Popen(['g++', '-x', 'c++', '-Wall', '-o', 'myprog' '/dev/stdin'], stdin=subprocess.PIPE, stdout=subprocess.PIPE, stderr=subprocess.PIPE)\n",
    "p.communicate(bytes(program))"
   ]
  },
  {
   "cell_type": "code",
   "execution_count": 101,
   "metadata": {},
   "outputs": [
    {
     "output_type": "execute_result",
     "data": {
      "text/plain": [
       "<pexpect.pty_spawn.spawn at 0x7fc1ed4607f0>"
      ]
     },
     "metadata": {},
     "execution_count": 101
    }
   ],
   "source": [
    "analyzer = pexpect.spawn('g++ -x c++ -Wall -E /dev/stdin', encoding='utf-8')\n",
    "analyzer.sendline(program)\n",
    "p.expect(pexpect.EOF)\n",
    "analyzer.read()"
   ]
  },
  {
   "cell_type": "code",
   "execution_count": 61,
   "metadata": {},
   "outputs": [
    {
     "output_type": "execute_result",
     "data": {
      "text/plain": [
       "b'#define ONLINE_JUDGE \\n// program to add two numbers using a function\\n\\n#include <iostream>\\n\\nusing namespace std;\\n\\n// declaring a function\\nint add(int a, int b) {\\n    return (a + b);\\n} | g++ -x c++ -Wall -E /dev/stdin\\n'"
      ]
     },
     "metadata": {},
     "execution_count": 61
    }
   ],
   "source": [
    "subprocess.check_output(['echo', program, '|', 'g++', '-x', 'c++', '-Wall', '-E', '/dev/stdin'])"
   ]
  },
  {
   "cell_type": "code",
   "execution_count": 5,
   "metadata": {},
   "outputs": [],
   "source": []
  },
  {
   "cell_type": "code",
   "execution_count": 9,
   "metadata": {},
   "outputs": [],
   "source": [
    "def preprocess_solution(row):\n",
    "    solution = row['solution']\n",
    "    includes_usings = []\n",
    "    include_regex = re.compile(r'^#*.include')\n",
    "    using_regex = re.compile(r'^using')\n",
    "    lines = re.split(';|\\n', solution)\n",
    "    includes_usings += [element + ';' for element in list(filter(using_regex.search, lines))]\n",
    "    includes_usings += list(filter(include_regex.search, lines))\n",
    "\n",
    "\n",
    "    if not '#define ONLINE_JUDGE' in solution:\n",
    "        solution = '#define ONLINE_JUDGE \\n' + solution\n",
    "\n",
    "    return solution, includes_usings"
   ]
  },
  {
   "cell_type": "code",
   "execution_count": 10,
   "metadata": {},
   "outputs": [
    {
     "output_type": "stream",
     "name": "stderr",
     "text": [
      "100%|██████████| 305433/305433 [00:42<00:00, 7180.43it/s] \n",
      "100%|██████████| 429990/429990 [01:02<00:00, 6857.04it/s] \n",
      "100%|██████████| 407968/407968 [00:56<00:00, 7184.93it/s] \n",
      "100%|██████████| 362021/362021 [00:51<00:00, 7039.47it/s] \n",
      "100%|██████████| 437826/437826 [01:01<00:00, 7105.43it/s] \n",
      "100%|██████████| 375984/375984 [00:56<00:00, 6691.47it/s] \n",
      "/home/sander/.local/lib/python3.8/site-packages/IPython/core/interactiveshell.py:3145: DtypeWarning: Columns (4) have mixed types.Specify dtype option on import or set low_memory=False.\n",
      "  has_raised = await self.run_ast_nodes(code_ast.body, cell_name,\n",
      "100%|██████████| 303187/303187 [00:44<00:00, 6800.08it/s] \n",
      "0it [00:00, ?it/s]\n"
     ]
    },
    {
     "output_type": "error",
     "ename": "ValueError",
     "evalue": "Columns must be same length as key",
     "traceback": [
      "\u001b[0;31m---------------------------------------------------------------------------\u001b[0m",
      "\u001b[0;31mValueError\u001b[0m                                Traceback (most recent call last)",
      "\u001b[0;32m<ipython-input-10-9c34abecb631>\u001b[0m in \u001b[0;36m<module>\u001b[0;34m\u001b[0m\n\u001b[1;32m      9\u001b[0m     \u001b[0mchunk\u001b[0m \u001b[0;34m=\u001b[0m \u001b[0mchunk\u001b[0m\u001b[0;34m[\u001b[0m\u001b[0;34m~\u001b[0m\u001b[0mchunk\u001b[0m\u001b[0;34m[\u001b[0m\u001b[0;34m'solution'\u001b[0m\u001b[0;34m]\u001b[0m\u001b[0;34m.\u001b[0m\u001b[0misnull\u001b[0m\u001b[0;34m(\u001b[0m\u001b[0;34m)\u001b[0m\u001b[0;34m]\u001b[0m\u001b[0;34m\u001b[0m\u001b[0;34m\u001b[0m\u001b[0m\n\u001b[1;32m     10\u001b[0m     \u001b[0mtqdm\u001b[0m\u001b[0;34m.\u001b[0m\u001b[0mpandas\u001b[0m\u001b[0;34m(\u001b[0m\u001b[0;34m)\u001b[0m\u001b[0;34m\u001b[0m\u001b[0;34m\u001b[0m\u001b[0m\n\u001b[0;32m---> 11\u001b[0;31m     \u001b[0mchunk\u001b[0m\u001b[0;34m[\u001b[0m\u001b[0;34m[\u001b[0m\u001b[0;34m'solution'\u001b[0m\u001b[0;34m,\u001b[0m\u001b[0;34m'imports'\u001b[0m\u001b[0;34m]\u001b[0m\u001b[0;34m]\u001b[0m \u001b[0;34m=\u001b[0m \u001b[0mchunk\u001b[0m\u001b[0;34m.\u001b[0m\u001b[0mprogress_apply\u001b[0m\u001b[0;34m(\u001b[0m\u001b[0mpreprocess_solution\u001b[0m\u001b[0;34m,\u001b[0m \u001b[0maxis\u001b[0m\u001b[0;34m=\u001b[0m\u001b[0;36m1\u001b[0m\u001b[0;34m,\u001b[0m \u001b[0mresult_type\u001b[0m\u001b[0;34m=\u001b[0m\u001b[0;34m'expand'\u001b[0m\u001b[0;34m)\u001b[0m\u001b[0;34m\u001b[0m\u001b[0;34m\u001b[0m\u001b[0m\n\u001b[0m\u001b[1;32m     12\u001b[0m     \u001b[0mchunk\u001b[0m\u001b[0;34m.\u001b[0m\u001b[0mto_csv\u001b[0m\u001b[0;34m(\u001b[0m\u001b[0moutput_file\u001b[0m\u001b[0;34m,\u001b[0m \u001b[0mheader\u001b[0m\u001b[0;34m=\u001b[0m\u001b[0mheader\u001b[0m\u001b[0;34m,\u001b[0m \u001b[0mmode\u001b[0m\u001b[0;34m=\u001b[0m\u001b[0;34m'a'\u001b[0m\u001b[0;34m)\u001b[0m\u001b[0;34m\u001b[0m\u001b[0;34m\u001b[0m\u001b[0m\n\u001b[1;32m     13\u001b[0m     \u001b[0mheader\u001b[0m \u001b[0;34m=\u001b[0m \u001b[0;32mFalse\u001b[0m\u001b[0;34m\u001b[0m\u001b[0;34m\u001b[0m\u001b[0m\n",
      "\u001b[0;32m~/.local/lib/python3.8/site-packages/pandas/core/frame.py\u001b[0m in \u001b[0;36m__setitem__\u001b[0;34m(self, key, value)\u001b[0m\n\u001b[1;32m   3158\u001b[0m             \u001b[0mself\u001b[0m\u001b[0;34m.\u001b[0m\u001b[0m_setitem_frame\u001b[0m\u001b[0;34m(\u001b[0m\u001b[0mkey\u001b[0m\u001b[0;34m,\u001b[0m \u001b[0mvalue\u001b[0m\u001b[0;34m)\u001b[0m\u001b[0;34m\u001b[0m\u001b[0;34m\u001b[0m\u001b[0m\n\u001b[1;32m   3159\u001b[0m         \u001b[0;32melif\u001b[0m \u001b[0misinstance\u001b[0m\u001b[0;34m(\u001b[0m\u001b[0mkey\u001b[0m\u001b[0;34m,\u001b[0m \u001b[0;34m(\u001b[0m\u001b[0mSeries\u001b[0m\u001b[0;34m,\u001b[0m \u001b[0mnp\u001b[0m\u001b[0;34m.\u001b[0m\u001b[0mndarray\u001b[0m\u001b[0;34m,\u001b[0m \u001b[0mlist\u001b[0m\u001b[0;34m,\u001b[0m \u001b[0mIndex\u001b[0m\u001b[0;34m)\u001b[0m\u001b[0;34m)\u001b[0m\u001b[0;34m:\u001b[0m\u001b[0;34m\u001b[0m\u001b[0;34m\u001b[0m\u001b[0m\n\u001b[0;32m-> 3160\u001b[0;31m             \u001b[0mself\u001b[0m\u001b[0;34m.\u001b[0m\u001b[0m_setitem_array\u001b[0m\u001b[0;34m(\u001b[0m\u001b[0mkey\u001b[0m\u001b[0;34m,\u001b[0m \u001b[0mvalue\u001b[0m\u001b[0;34m)\u001b[0m\u001b[0;34m\u001b[0m\u001b[0;34m\u001b[0m\u001b[0m\n\u001b[0m\u001b[1;32m   3161\u001b[0m         \u001b[0;32melse\u001b[0m\u001b[0;34m:\u001b[0m\u001b[0;34m\u001b[0m\u001b[0;34m\u001b[0m\u001b[0m\n\u001b[1;32m   3162\u001b[0m             \u001b[0;31m# set column\u001b[0m\u001b[0;34m\u001b[0m\u001b[0;34m\u001b[0m\u001b[0;34m\u001b[0m\u001b[0m\n",
      "\u001b[0;32m~/.local/lib/python3.8/site-packages/pandas/core/frame.py\u001b[0m in \u001b[0;36m_setitem_array\u001b[0;34m(self, key, value)\u001b[0m\n\u001b[1;32m   3187\u001b[0m             \u001b[0;32mif\u001b[0m \u001b[0misinstance\u001b[0m\u001b[0;34m(\u001b[0m\u001b[0mvalue\u001b[0m\u001b[0;34m,\u001b[0m \u001b[0mDataFrame\u001b[0m\u001b[0;34m)\u001b[0m\u001b[0;34m:\u001b[0m\u001b[0;34m\u001b[0m\u001b[0;34m\u001b[0m\u001b[0m\n\u001b[1;32m   3188\u001b[0m                 \u001b[0;32mif\u001b[0m \u001b[0mlen\u001b[0m\u001b[0;34m(\u001b[0m\u001b[0mvalue\u001b[0m\u001b[0;34m.\u001b[0m\u001b[0mcolumns\u001b[0m\u001b[0;34m)\u001b[0m \u001b[0;34m!=\u001b[0m \u001b[0mlen\u001b[0m\u001b[0;34m(\u001b[0m\u001b[0mkey\u001b[0m\u001b[0;34m)\u001b[0m\u001b[0;34m:\u001b[0m\u001b[0;34m\u001b[0m\u001b[0;34m\u001b[0m\u001b[0m\n\u001b[0;32m-> 3189\u001b[0;31m                     \u001b[0;32mraise\u001b[0m \u001b[0mValueError\u001b[0m\u001b[0;34m(\u001b[0m\u001b[0;34m\"Columns must be same length as key\"\u001b[0m\u001b[0;34m)\u001b[0m\u001b[0;34m\u001b[0m\u001b[0;34m\u001b[0m\u001b[0m\n\u001b[0m\u001b[1;32m   3190\u001b[0m                 \u001b[0;32mfor\u001b[0m \u001b[0mk1\u001b[0m\u001b[0;34m,\u001b[0m \u001b[0mk2\u001b[0m \u001b[0;32min\u001b[0m \u001b[0mzip\u001b[0m\u001b[0;34m(\u001b[0m\u001b[0mkey\u001b[0m\u001b[0;34m,\u001b[0m \u001b[0mvalue\u001b[0m\u001b[0;34m.\u001b[0m\u001b[0mcolumns\u001b[0m\u001b[0;34m)\u001b[0m\u001b[0;34m:\u001b[0m\u001b[0;34m\u001b[0m\u001b[0;34m\u001b[0m\u001b[0m\n\u001b[1;32m   3191\u001b[0m                     \u001b[0mself\u001b[0m\u001b[0;34m[\u001b[0m\u001b[0mk1\u001b[0m\u001b[0;34m]\u001b[0m \u001b[0;34m=\u001b[0m \u001b[0mvalue\u001b[0m\u001b[0;34m[\u001b[0m\u001b[0mk2\u001b[0m\u001b[0;34m]\u001b[0m\u001b[0;34m\u001b[0m\u001b[0;34m\u001b[0m\u001b[0m\n",
      "\u001b[0;31mValueError\u001b[0m: Columns must be same length as key"
     ]
    }
   ],
   "source": [
    "input_file = '../codeforces-scraper/data/contests_solutions/solutions_600.csv'\n",
    "output_file = '../data/cpp_preprocessed/solutions_600.csv'\n",
    "\n",
    "header = True\n",
    "df = pd.read_csv(input_file, chunksize=5e5)\n",
    "\n",
    "for chunk in df:\n",
    "    chunk = chunk[chunk['programmingLangauge'].str.contains('C\\+\\+')]\n",
    "    chunk = chunk[~chunk['solution'].isnull()]\n",
    "    tqdm.pandas()\n",
    "    chunk[['solution','imports']] = chunk.progress_apply(preprocess_solution, axis=1, result_type='expand')\n",
    "    chunk.to_csv(output_file, header=header, index=False, mode='a')\n",
    "    header = False"
   ]
  },
  {
   "cell_type": "code",
   "execution_count": 11,
   "metadata": {},
   "outputs": [],
   "source": [
    "data = pd.read_csv('../data/cpp_preprocessed/solutions_600.csv')"
   ]
  },
  {
   "cell_type": "code",
   "execution_count": 43,
   "metadata": {
    "tags": []
   },
   "outputs": [
    {
     "output_type": "stream",
     "name": "stdout",
     "text": [
      "solution      #define ONLINE_JUDGE \\n///Fix the cause, not t...\nsolutionId                                            107004724\nName: 0, dtype: object\n"
     ]
    }
   ],
   "source": [
    "for program in data[['solution', 'solutionId']].iterrows():\n",
    "    print(program[1])\n",
    "    break"
   ]
  },
  {
   "cell_type": "code",
   "execution_count": 14,
   "metadata": {},
   "outputs": [],
   "source": [
    "data.drop(columns='Unnamed: 0', inplace=True)"
   ]
  },
  {
   "cell_type": "code",
   "execution_count": 16,
   "metadata": {},
   "outputs": [],
   "source": [
    "data.to_csv('../data/cpp_preprocessed/solutions_600.csv', index=False)"
   ]
  },
  {
   "cell_type": "code",
   "execution_count": 44,
   "metadata": {},
   "outputs": [],
   "source": [
    "data[:100].to_csv('../data/cpp_preprocessed/test.csv', index=False)"
   ]
  },
  {
   "cell_type": "code",
   "execution_count": 207,
   "metadata": {},
   "outputs": [
    {
     "output_type": "execute_result",
     "data": {
      "text/plain": [
       "     solutionId  contestId problem programmingLanguage\n",
       "106   104554251       1070       B           GNU C++11"
      ],
      "text/html": "<div>\n<style scoped>\n    .dataframe tbody tr th:only-of-type {\n        vertical-align: middle;\n    }\n\n    .dataframe tbody tr th {\n        vertical-align: top;\n    }\n\n    .dataframe thead th {\n        text-align: right;\n    }\n</style>\n<table border=\"1\" class=\"dataframe\">\n  <thead>\n    <tr style=\"text-align: right;\">\n      <th></th>\n      <th>solutionId</th>\n      <th>contestId</th>\n      <th>problem</th>\n      <th>programmingLanguage</th>\n    </tr>\n  </thead>\n  <tbody>\n    <tr>\n      <th>106</th>\n      <td>104554251</td>\n      <td>1070</td>\n      <td>B</td>\n      <td>GNU C++11</td>\n    </tr>\n  </tbody>\n</table>\n</div>"
     },
     "metadata": {},
     "execution_count": 207
    }
   ],
   "source": [
    "solutions[solutions['solutionId'] == 104554251]"
   ]
  },
  {
   "cell_type": "code",
   "execution_count": 47,
   "metadata": {},
   "outputs": [],
   "source": [
    "import clang.cindex"
   ]
  },
  {
   "cell_type": "code",
   "execution_count": 50,
   "metadata": {},
   "outputs": [],
   "source": [
    "clang_lib_file='/usr/lib/x86_64-linux-gnu/libclang-6.0.so.1'\n",
    "clang.cindex.Config.set_library_file(clang_lib_file)"
   ]
  },
  {
   "cell_type": "code",
   "execution_count": 51,
   "metadata": {},
   "outputs": [],
   "source": [
    "index = clang.cindex.Index.create()"
   ]
  },
  {
   "cell_type": "code",
   "execution_count": 66,
   "metadata": {},
   "outputs": [
    {
     "output_type": "execute_result",
     "data": {
      "text/plain": [
       "<clang.cindex.TranslationUnit at 0x7fd4e79a0370>"
      ]
     },
     "metadata": {},
     "execution_count": 66
    }
   ],
   "source": [
    "index.parse('tmp.cpp', unsaved_files=[('tmp.cpp', program)], args=['-x', 'c++', '-std=c++17'])"
   ]
  },
  {
   "cell_type": "code",
   "execution_count": 55,
   "metadata": {},
   "outputs": [],
   "source": [
    "program = data.iloc[0]['solution']"
   ]
  },
  {
   "cell_type": "code",
   "execution_count": 56,
   "metadata": {},
   "outputs": [
    {
     "output_type": "execute_result",
     "data": {
      "text/plain": [
       "'#define ONLINE_JUDGE ///Fix the cause, not the symptom.#include<bits/stdc++.h>using namespace std;#define ll           long long#define ull          unsigned long long#define db           double#define sf           scanf#define pf           printf#define pb           push_back#define pi           acos(-1)#define MOD          1000000007#define pii          pair<ll,ll>#define time_save    ios_base::sync_with_stdio(false); cin.tie(NULL);#define D(x)         cerr << __LINE__ << \": \" << #x << \" = \" << (x) << \\'\\\\n\\'#define DD(x,y)      cerr << __LINE__ << \": \" << #x << \" = \" << x << \"   \" << #y << \" = \" << y << \\'\\\\n\\'#define DDD(x,y,z)   cerr << __LINE__ << \": \" << #x << \" = \" << x << \"   \" << #y << \" = \" << y << \"   \" << #z << \" = \" << z << \\'\\\\n\\'#define DBG          cerr << __LINE__ << \": Hi\" << \\'\\\\n\\'/*----------------------Graph Moves----------------*///const ll dx[]={+1,-1,+0,+0};//const ll dy[]={+0,+0,+1,-1};//const ll dx[]={+0,+0,+1,-1,-1,+1,-1,+1};   // Kings Move//const ll dy[]={-1,+1,+0,+0,+1,+1,-1,-1};  // Kings Move//const ll dx[]={-2, -2, -1, -1,  1,  1,  2,  2};  // Knights Move//const ll dy[]={-1,  1, -2,  2, -2,  2, -1,  1}; // Knights Move/*------------------------------------------------*//*-----------------------Bitmask------------------*///int Set(int N,int pos){return N=N  (1<<pos);}//int reset(int N,int pos){return N= N & ~(1<<pos);}//bool check(int N,int pos){return (bool)(N & (1<<pos));}/*------------------------------------------------*/ll vis[505][5005],num[505][5005],s,d;struct nod{    ll d,s;    string n;};void bfs(){    queue<nod>q;    q.push({0,0,\"\"});    //DD(x.first,x.second);    vis[0][0]=1;    while(!q.empty()){        nod u=q.front();        q.pop();       // DD(u.first,u.second);        ll mod=u.d;        ll sum=u.s;        string str=u.n;        if(sum<=s){            if(mod==0&&sum==s){                cout<<str<<endl;                return;            }            for(ll i=0;i<=9;i++){                ll mod2=(mod*10+i)%d;                ll sum2=sum+i;                if(!vis[mod2][sum2]){                    vis[mod2][sum2]=1;                    q.push({mod2,sum2,str+(char)(i+\\'0\\')});                }            }        }    }    cout<<-1<<endl;    return;}int main(){    #ifndef ONLINE_JUDGE       freopen(\"in.txt\",\"r\",stdin);    ///   freopen(\"out.txt\",\"w\",stdout);    #endif    //time_save;    cin>>d>>s;    bfs();    return 0;}'"
      ]
     },
     "metadata": {},
     "execution_count": 56
    }
   ],
   "source": [
    "program.replace('\\n', '')"
   ]
  },
  {
   "cell_type": "code",
   "execution_count": 6,
   "metadata": {},
   "outputs": [],
   "source": [
    "class AST_parser:\n",
    "    def __init__(self, clang_lib_file='/usr/lib/x86_64-linux-gnu/libclang-6.0.so.1'):\n",
    "        try:\n",
    "            clang.cindex.Config.set_library_file(clang_lib_file)\n",
    "        except Exception as e:\n",
    "            print(f'Skipped setting library file: {e}')\n",
    "\n",
    "        self.index = clang.cindex.Index.create()\n",
    "\n",
    "\n",
    "    def parse_ast(self, input_file_path):\n",
    "        tu = self.index.parse(input_file_path)\n",
    "        cursor_items = self.get_cursor_items(tu.cursor)\n",
    "        root_node = Node('root', is_reserved=True)\n",
    "\n",
    "        for cursor_item in cursor_items:\n",
    "            self.parse_item(cursor_item, root_node)\n",
    "\n",
    "        return root_node\n",
    "\n",
    "\n",
    "    def get_cursor_items(self, cursor):\n",
    "        cursor_items = []\n",
    "        user_code_started = False\n",
    "        root_node = Node('root', True)\n",
    "\n",
    "        for child in cursor.get_children():\n",
    "            if user_code_started:\n",
    "                cursor_items.append(child)\n",
    "            if child.kind == CursorKind.USING_DIRECTIVE:\n",
    "                user_code_started = True\n",
    "\n",
    "        return cursor_items\n",
    "\n",
    "\n",
    "    def parse_item(self, ast_item, parent_node):\n",
    "        # skip meaningless AST primitives\n",
    "        if ast_item.kind == CursorKind.DECL_STMT or ast_item.kind == CursorKind.UNEXPOSED_EXPR \\\n",
    "            or ast_item.kind == CursorKind.TEMPLATE_REF or ast_item.kind == CursorKind.NAMESPACE_REF:\n",
    "            pass\n",
    "\n",
    "\n",
    "        # Parse typdef\n",
    "        elif utils.is_typedef(ast_item):\n",
    "            handle_typedef(ast_item, parent_node)\n",
    "\n",
    "\n",
    "        # parse declaration\n",
    "        elif ast_item.kind.is_declaration():\n",
    "            parent_node = handle_declaration(ast_item, parent_node, self.parse_item)\n",
    "\n",
    "        # parse operator\n",
    "        elif utils.is_operator(ast_item):\n",
    "            parent_node = handle_operator(ast_item, parent_node)\n",
    "\n",
    "        # parse literal\n",
    "        elif utils.is_literal(ast_item):\n",
    "            handle_literal(ast_item, parent_node)\n",
    "\n",
    "\n",
    "        # parse call expression\n",
    "        elif utils.is_call_expr(ast_item):\n",
    "            parent_node = handle_call_expr(ast_item, parent_node)\n",
    "\n",
    "\n",
    "        # parse reference\n",
    "        elif utils.is_reference(ast_item):\n",
    "            handle_reference(ast_item, parent_node)\n",
    "        \n",
    "\n",
    "        # parse type ref\n",
    "        elif ast_item.kind == CursorKind.TYPE_REF and parent_node.label != 'root':\n",
    "            handle_type_ref(ast_item, parent_node)\n",
    "\n",
    "\n",
    "        # if not one of the above -> create simple parent node of the kind of the item\n",
    "        else:\n",
    "            parent_node = Node(ast_item.kind.name, is_reserved=True, parent=parent_node)\n",
    "\n",
    "\n",
    "        for child in ast_item.get_children():\n",
    "            if child.kind != CursorKind.PARM_DECL:\n",
    "                self.parse_item(child, parent_node)"
   ]
  },
  {
   "cell_type": "code",
   "execution_count": 7,
   "metadata": {},
   "outputs": [
    {
     "output_type": "stream",
     "name": "stdout",
     "text": [
      "Skipped setting library file: library file must be set before before using any other functionalities in libclang.\n"
     ]
    },
    {
     "output_type": "error",
     "ename": "NameError",
     "evalue": "name 'CursorKind' is not defined",
     "traceback": [
      "\u001b[0;31m---------------------------------------------------------------------------\u001b[0m",
      "\u001b[0;31mNameError\u001b[0m                                 Traceback (most recent call last)",
      "\u001b[0;32m<ipython-input-7-eade49d86f7a>\u001b[0m in \u001b[0;36m<module>\u001b[0;34m\u001b[0m\n\u001b[1;32m      1\u001b[0m \u001b[0mast_parser\u001b[0m \u001b[0;34m=\u001b[0m \u001b[0mAST_parser\u001b[0m\u001b[0;34m(\u001b[0m\u001b[0;34m)\u001b[0m\u001b[0;34m\u001b[0m\u001b[0;34m\u001b[0m\u001b[0m\n\u001b[0;32m----> 2\u001b[0;31m \u001b[0mast\u001b[0m \u001b[0;34m=\u001b[0m \u001b[0mast_parser\u001b[0m\u001b[0;34m.\u001b[0m\u001b[0mparse_ast\u001b[0m\u001b[0;34m(\u001b[0m\u001b[0;34m'../data/subset/cpp_preprocessed/104558927.cpp'\u001b[0m\u001b[0;34m)\u001b[0m\u001b[0;34m\u001b[0m\u001b[0;34m\u001b[0m\u001b[0m\n\u001b[0m",
      "\u001b[0;32m<ipython-input-6-df986837adf3>\u001b[0m in \u001b[0;36mparse_ast\u001b[0;34m(self, input_file_path)\u001b[0m\n\u001b[1;32m     11\u001b[0m     \u001b[0;32mdef\u001b[0m \u001b[0mparse_ast\u001b[0m\u001b[0;34m(\u001b[0m\u001b[0mself\u001b[0m\u001b[0;34m,\u001b[0m \u001b[0minput_file_path\u001b[0m\u001b[0;34m)\u001b[0m\u001b[0;34m:\u001b[0m\u001b[0;34m\u001b[0m\u001b[0;34m\u001b[0m\u001b[0m\n\u001b[1;32m     12\u001b[0m         \u001b[0mtu\u001b[0m \u001b[0;34m=\u001b[0m \u001b[0mself\u001b[0m\u001b[0;34m.\u001b[0m\u001b[0mindex\u001b[0m\u001b[0;34m.\u001b[0m\u001b[0mparse\u001b[0m\u001b[0;34m(\u001b[0m\u001b[0minput_file_path\u001b[0m\u001b[0;34m)\u001b[0m\u001b[0;34m\u001b[0m\u001b[0;34m\u001b[0m\u001b[0m\n\u001b[0;32m---> 13\u001b[0;31m         \u001b[0mcursor_items\u001b[0m \u001b[0;34m=\u001b[0m \u001b[0mself\u001b[0m\u001b[0;34m.\u001b[0m\u001b[0mget_cursor_items\u001b[0m\u001b[0;34m(\u001b[0m\u001b[0mtu\u001b[0m\u001b[0;34m.\u001b[0m\u001b[0mcursor\u001b[0m\u001b[0;34m)\u001b[0m\u001b[0;34m\u001b[0m\u001b[0;34m\u001b[0m\u001b[0m\n\u001b[0m\u001b[1;32m     14\u001b[0m         \u001b[0mroot_node\u001b[0m \u001b[0;34m=\u001b[0m \u001b[0mNode\u001b[0m\u001b[0;34m(\u001b[0m\u001b[0;34m'root'\u001b[0m\u001b[0;34m,\u001b[0m \u001b[0mis_reserved\u001b[0m\u001b[0;34m=\u001b[0m\u001b[0;32mTrue\u001b[0m\u001b[0;34m)\u001b[0m\u001b[0;34m\u001b[0m\u001b[0;34m\u001b[0m\u001b[0m\n\u001b[1;32m     15\u001b[0m \u001b[0;34m\u001b[0m\u001b[0m\n",
      "\u001b[0;32m<ipython-input-6-df986837adf3>\u001b[0m in \u001b[0;36mget_cursor_items\u001b[0;34m(self, cursor)\u001b[0m\n\u001b[1;32m     28\u001b[0m             \u001b[0;32mif\u001b[0m \u001b[0muser_code_started\u001b[0m\u001b[0;34m:\u001b[0m\u001b[0;34m\u001b[0m\u001b[0;34m\u001b[0m\u001b[0m\n\u001b[1;32m     29\u001b[0m                 \u001b[0mcursor_items\u001b[0m\u001b[0;34m.\u001b[0m\u001b[0mappend\u001b[0m\u001b[0;34m(\u001b[0m\u001b[0mchild\u001b[0m\u001b[0;34m)\u001b[0m\u001b[0;34m\u001b[0m\u001b[0;34m\u001b[0m\u001b[0m\n\u001b[0;32m---> 30\u001b[0;31m             \u001b[0;32mif\u001b[0m \u001b[0mchild\u001b[0m\u001b[0;34m.\u001b[0m\u001b[0mkind\u001b[0m \u001b[0;34m==\u001b[0m \u001b[0mCursorKind\u001b[0m\u001b[0;34m.\u001b[0m\u001b[0mUSING_DIRECTIVE\u001b[0m\u001b[0;34m:\u001b[0m\u001b[0;34m\u001b[0m\u001b[0;34m\u001b[0m\u001b[0m\n\u001b[0m\u001b[1;32m     31\u001b[0m                 \u001b[0muser_code_started\u001b[0m \u001b[0;34m=\u001b[0m \u001b[0;32mTrue\u001b[0m\u001b[0;34m\u001b[0m\u001b[0;34m\u001b[0m\u001b[0m\n\u001b[1;32m     32\u001b[0m \u001b[0;34m\u001b[0m\u001b[0m\n",
      "\u001b[0;31mNameError\u001b[0m: name 'CursorKind' is not defined"
     ]
    }
   ],
   "source": [
    "ast_parser = AST_parser()\n",
    "ast = ast_parser.parse_ast('../data/subset/cpp_preprocessed/104558927.cpp')"
   ]
  },
  {
   "cell_type": "code",
   "execution_count": null,
   "metadata": {
    "tags": []
   },
   "outputs": [],
   "source": [
    "for pre, fill, node in RenderTree(ast):\n",
    "    treestr = u\"%s%s\" % (pre, node.label)\n",
    "    print(treestr)"
   ]
  },
  {
   "cell_type": "code",
   "execution_count": null,
   "metadata": {},
   "outputs": [],
   "source": [
    "from anytree.exporter import JsonExporter\n",
    "\n",
    "exporter = JsonExporter(indent=2)\n",
    "with open('tree.json', 'w') as file:\n",
    "    file.write(exporter.export(root_node))\n"
   ]
  },
  {
   "cell_type": "code",
   "execution_count": 124,
   "metadata": {},
   "outputs": [
    {
     "output_type": "stream",
     "name": "stdout",
     "text": [
      "['104554194.cpp', '104554251.cpp', '104558927.cpp', '104560220.cpp', '104604737.cpp', '104606100.cpp', '104663473.cpp', '104696038.cpp', '104759177.cpp', '104759215.cpp', '104760965.cpp', '104766018.cpp', '104930101.cpp', '104931090.cpp', '104939468.cpp', '105028826.cpp', '105052007.cpp', '105066757.cpp', '105085785.cpp', '105087511.cpp', '105087586.cpp', '105113472.cpp', '105121226.cpp', '105129923.cpp', '106067757.cpp', '106076703.cpp', '106076991.cpp', '106079532.cpp', '106079587.cpp', '106081350.cpp', '106081812.cpp', '106085118.cpp', '106098695.cpp', '106181322.cpp', '106187233.cpp', '106188303.cpp', '106207179.cpp', '106209681.cpp', '106210901.cpp', '106210928.cpp', '106219172.cpp', '106283598.cpp', '106293015.cpp', '106295849.cpp', '106389953.cpp', '106395892.cpp', '106456255.cpp', '106461660.cpp', '106504120.cpp', '106508975.cpp', '106509000.cpp', '106534201.cpp', '106612149.cpp', '106637474.cpp', '106643718.cpp', '106696279.cpp', '106697152.cpp', '106701857.cpp', '106705445.cpp', '106719233.cpp', '106740457.cpp', '106740500.cpp', '106815166.cpp', '106821393.cpp', '106966818.cpp', '107004724.cpp', '105135262.cpp', '105140380.cpp', '105142695.cpp', '105142815.cpp', '105143098.cpp', '105143318.cpp', '105146112.cpp', '105146358.cpp', '105152327.cpp', '105157665.cpp', '105191874.cpp', '105192388.cpp', '105193188.cpp', '105207067.cpp', '105209007.cpp', '105134922.cpp', '105217406.cpp', '106015559.cpp', '106429029.cpp', '105222885.cpp', '105222974.cpp', '105224563.cpp', '105234242.cpp', '105292475.cpp', '105295149.cpp', '105449908.cpp', '105450666.cpp', '105497163.cpp', '105566803.cpp', '105569082.cpp', '105841196.cpp', '105972598.cpp', '105984601.cpp', '105992703.cpp']\n"
     ]
    }
   ],
   "source": [
    "for _,_,files in os.walk('../data/subset/ast_trees_to_code/'):\n",
    "    print(files)"
   ]
  },
  {
   "cell_type": "code",
   "execution_count": 141,
   "metadata": {},
   "outputs": [
    {
     "output_type": "stream",
     "name": "stdout",
     "text": [
      "     solutionId  contestId problem programmingLanguage\n107   104554194       1070       B           GNU C++11\n"
     ]
    },
    {
     "output_type": "execute_result",
     "data": {
      "text/plain": [
       "\"[('1\\\\n-149.154.167.99', '1\\\\n0.0.0.0/0'), ('4\\\\n-149.154.167.99\\\\n+149.154.167.100/30\\\\n+149.154.167.128/25\\\\n-149.154.167.120/29', '2\\\\n149.154.167.96/30\\\\n149.154.167.112/28'), ('5\\\\n-127.0.0.4/31\\\\n+127.0.0.8\\\\n+127.0.0.0/30\\\\n-195.82.146.208/29\\\\n-127.0.0.6/31', '2\\\\n127.0.0.4/30\\\\n128.0.0.0/1'), ('2\\\\n+127.0.0.1/32\\\\n-127.0.0.1', '-1'), ('1\\\\n-0.0.0.0/32', '1\\\\n0.0.0.0/0'), ('1\\\\n-0.0.0.10', '1\\\\n0.0.0.0/0'), ('1\\\\n-0.0.0.1', '1\\\\n0.0.0.0/0'), ('1\\\\n-0.0.0.13/32', '1\\\\n0.0.0.0/0'), ('1\\\\n-0.0.0.7', '1\\\\n0.0.0.0/0'),\""
      ]
     },
     "metadata": {},
     "execution_count": 141
    }
   ],
   "source": [
    "solution = 104554194\n",
    "\n",
    "\n",
    "solutions[solutions['solutionId'] == solution]\n",
    "solution_data = solutions[solutions['solutionId'] == solution]\n",
    "\n",
    "tests = problems[(problems['contestId'] == solution_data['contestId'].iloc[0]) & (problems['problem'] == solution_data['problem'].iloc[0])]['allTests'].iloc[0]\n",
    "print(solution_data)\n",
    "tests[:500]"
   ]
  },
  {
   "source": [],
   "cell_type": "code",
   "metadata": {
    "tags": []
   },
   "execution_count": null,
   "outputs": []
  },
  {
   "cell_type": "code",
   "execution_count": 221,
   "metadata": {},
   "outputs": [
    {
     "output_type": "stream",
     "name": "stdout",
     "text": [
      "0\n15\n3337\n"
     ]
    }
   ],
   "source": [
    "print(len(not_compiled))\n",
    "print(len(tests_failed))\n",
    "print(len(success))\n"
   ]
  },
  {
   "cell_type": "code",
   "execution_count": 225,
   "metadata": {},
   "outputs": [
    {
     "output_type": "execute_result",
     "data": {
      "text/plain": [
       "86"
      ]
     },
     "metadata": {},
     "execution_count": 225
    }
   ],
   "source": [
    "len(set(success))"
   ]
  }
 ],
 "metadata": {
  "kernelspec": {
   "display_name": "Python 3.8.5 64-bit",
   "language": "python",
   "name": "python38564bit231e0d43eb2c433a8f3492e4319da732"
  },
  "language_info": {
   "codemirror_mode": {
    "name": "ipython",
    "version": 3
   },
   "file_extension": ".py",
   "mimetype": "text/x-python",
   "name": "python",
   "nbconvert_exporter": "python",
   "pygments_lexer": "ipython3",
   "version": "3.8.5-final"
  }
 },
 "nbformat": 4,
 "nbformat_minor": 4
}