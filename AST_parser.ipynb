{
 "cells": [
  {
   "cell_type": "code",
   "execution_count": 5,
   "metadata": {},
   "outputs": [],
   "source": [
    "import clang.cindex\n",
    "from clang.cindex import CursorKind\n",
    "from anytree import RenderTree\n",
    "from tree_node import Node\n",
    "import utils\n",
    "from node_handler import *"
   ]
  },
  {
   "cell_type": "code",
   "execution_count": 6,
   "metadata": {},
   "outputs": [],
   "source": [
    "class AST_parser:\n",
    "    def __init__(self, clang_lib_file='/usr/lib/x86_64-linux-gnu/libclang-6.0.so.1'):\n",
    "        try:\n",
    "            clang.cindex.Config.set_library_file(clang_lib_file)\n",
    "        except Exception as e:\n",
    "            print(f'Skipped setting library file: {e}')\n",
    "\n",
    "        self.index = clang.cindex.Index.create()\n",
    "\n",
    "\n",
    "    def parse_ast(self, input_file_path):\n",
    "        tu = self.index.parse(input_file_path)\n",
    "        cursor_items = self.get_cursor_items(tu.cursor)\n",
    "        root_node = Node('root', is_reserved=True)\n",
    "\n",
    "        for cursor_item in cursor_items:\n",
    "            self.parse_item(cursor_item, root_node)\n",
    "\n",
    "        return root_node\n",
    "\n",
    "\n",
    "    def get_cursor_items(self, cursor):\n",
    "        cursor_items = []\n",
    "        user_code_started = False\n",
    "        root_node = Node('root', True)\n",
    "\n",
    "        for child in cursor.get_children():\n",
    "            if user_code_started:\n",
    "                cursor_items.append(child)\n",
    "            if child.kind == CursorKind.USING_DIRECTIVE:\n",
    "                user_code_started = True\n",
    "\n",
    "        return cursor_items\n",
    "\n",
    "\n",
    "    def parse_item(self, ast_item, parent_node):\n",
    "        # skip meaningless AST primitives\n",
    "        if ast_item.kind == CursorKind.DECL_STMT or ast_item.kind == CursorKind.UNEXPOSED_EXPR \\\n",
    "            or ast_item.kind == CursorKind.TEMPLATE_REF or ast_item.kind == CursorKind.NAMESPACE_REF:\n",
    "            pass\n",
    "\n",
    "\n",
    "        # Parse typdef\n",
    "        elif utils.is_typedef(ast_item):\n",
    "            handle_typedef(ast_item, parent_node)\n",
    "\n",
    "\n",
    "        # parse declaration\n",
    "        elif ast_item.kind.is_declaration():\n",
    "            parent_node = handle_declaration(ast_item, parent_node, self.parse_item)\n",
    "\n",
    "        # parse operator\n",
    "        elif utils.is_operator(ast_item):\n",
    "            parent_node = handle_operator(ast_item, parent_node)\n",
    "\n",
    "        # parse literal\n",
    "        elif utils.is_literal(ast_item):\n",
    "            handle_literal(ast_item, parent_node)\n",
    "\n",
    "\n",
    "        # parse call expression\n",
    "        elif utils.is_call_expr(ast_item):\n",
    "            parent_node = handle_call_expr(ast_item, parent_node)\n",
    "\n",
    "\n",
    "        # parse reference\n",
    "        elif utils.is_reference(ast_item):\n",
    "            handle_reference(ast_item, parent_node)\n",
    "        \n",
    "\n",
    "        # parse type ref\n",
    "        elif ast_item.kind == CursorKind.TYPE_REF and parent_node.label != 'root':\n",
    "            handle_type_ref(ast_item, parent_node)\n",
    "\n",
    "\n",
    "        # if not one of the above -> create simple parent node of the kind of the item\n",
    "        else:\n",
    "            parent_node = Node(ast_item.kind.name, is_reserved=True, parent=parent_node)\n",
    "\n",
    "\n",
    "        for child in ast_item.get_children():\n",
    "            if child.kind != CursorKind.PARM_DECL:\n",
    "                self.parse_item(child, parent_node)"
   ]
  },
  {
   "cell_type": "code",
   "execution_count": 7,
   "metadata": {},
   "outputs": [
    {
     "output_type": "stream",
     "name": "stdout",
     "text": [
      "Skipped setting library file: library file must be set before before using any other functionalities in libclang.\n"
     ]
    },
    {
     "output_type": "error",
     "ename": "NameError",
     "evalue": "name 'CursorKind' is not defined",
     "traceback": [
      "\u001b[0;31m---------------------------------------------------------------------------\u001b[0m",
      "\u001b[0;31mNameError\u001b[0m                                 Traceback (most recent call last)",
      "\u001b[0;32m<ipython-input-7-eade49d86f7a>\u001b[0m in \u001b[0;36m<module>\u001b[0;34m\u001b[0m\n\u001b[1;32m      1\u001b[0m \u001b[0mast_parser\u001b[0m \u001b[0;34m=\u001b[0m \u001b[0mAST_parser\u001b[0m\u001b[0;34m(\u001b[0m\u001b[0;34m)\u001b[0m\u001b[0;34m\u001b[0m\u001b[0;34m\u001b[0m\u001b[0m\n\u001b[0;32m----> 2\u001b[0;31m \u001b[0mast\u001b[0m \u001b[0;34m=\u001b[0m \u001b[0mast_parser\u001b[0m\u001b[0;34m.\u001b[0m\u001b[0mparse_ast\u001b[0m\u001b[0;34m(\u001b[0m\u001b[0;34m'../data/subset/cpp_preprocessed/104558927.cpp'\u001b[0m\u001b[0;34m)\u001b[0m\u001b[0;34m\u001b[0m\u001b[0;34m\u001b[0m\u001b[0m\n\u001b[0m",
      "\u001b[0;32m<ipython-input-6-df986837adf3>\u001b[0m in \u001b[0;36mparse_ast\u001b[0;34m(self, input_file_path)\u001b[0m\n\u001b[1;32m     11\u001b[0m     \u001b[0;32mdef\u001b[0m \u001b[0mparse_ast\u001b[0m\u001b[0;34m(\u001b[0m\u001b[0mself\u001b[0m\u001b[0;34m,\u001b[0m \u001b[0minput_file_path\u001b[0m\u001b[0;34m)\u001b[0m\u001b[0;34m:\u001b[0m\u001b[0;34m\u001b[0m\u001b[0;34m\u001b[0m\u001b[0m\n\u001b[1;32m     12\u001b[0m         \u001b[0mtu\u001b[0m \u001b[0;34m=\u001b[0m \u001b[0mself\u001b[0m\u001b[0;34m.\u001b[0m\u001b[0mindex\u001b[0m\u001b[0;34m.\u001b[0m\u001b[0mparse\u001b[0m\u001b[0;34m(\u001b[0m\u001b[0minput_file_path\u001b[0m\u001b[0;34m)\u001b[0m\u001b[0;34m\u001b[0m\u001b[0;34m\u001b[0m\u001b[0m\n\u001b[0;32m---> 13\u001b[0;31m         \u001b[0mcursor_items\u001b[0m \u001b[0;34m=\u001b[0m \u001b[0mself\u001b[0m\u001b[0;34m.\u001b[0m\u001b[0mget_cursor_items\u001b[0m\u001b[0;34m(\u001b[0m\u001b[0mtu\u001b[0m\u001b[0;34m.\u001b[0m\u001b[0mcursor\u001b[0m\u001b[0;34m)\u001b[0m\u001b[0;34m\u001b[0m\u001b[0;34m\u001b[0m\u001b[0m\n\u001b[0m\u001b[1;32m     14\u001b[0m         \u001b[0mroot_node\u001b[0m \u001b[0;34m=\u001b[0m \u001b[0mNode\u001b[0m\u001b[0;34m(\u001b[0m\u001b[0;34m'root'\u001b[0m\u001b[0;34m,\u001b[0m \u001b[0mis_reserved\u001b[0m\u001b[0;34m=\u001b[0m\u001b[0;32mTrue\u001b[0m\u001b[0;34m)\u001b[0m\u001b[0;34m\u001b[0m\u001b[0;34m\u001b[0m\u001b[0m\n\u001b[1;32m     15\u001b[0m \u001b[0;34m\u001b[0m\u001b[0m\n",
      "\u001b[0;32m<ipython-input-6-df986837adf3>\u001b[0m in \u001b[0;36mget_cursor_items\u001b[0;34m(self, cursor)\u001b[0m\n\u001b[1;32m     28\u001b[0m             \u001b[0;32mif\u001b[0m \u001b[0muser_code_started\u001b[0m\u001b[0;34m:\u001b[0m\u001b[0;34m\u001b[0m\u001b[0;34m\u001b[0m\u001b[0m\n\u001b[1;32m     29\u001b[0m                 \u001b[0mcursor_items\u001b[0m\u001b[0;34m.\u001b[0m\u001b[0mappend\u001b[0m\u001b[0;34m(\u001b[0m\u001b[0mchild\u001b[0m\u001b[0;34m)\u001b[0m\u001b[0;34m\u001b[0m\u001b[0;34m\u001b[0m\u001b[0m\n\u001b[0;32m---> 30\u001b[0;31m             \u001b[0;32mif\u001b[0m \u001b[0mchild\u001b[0m\u001b[0;34m.\u001b[0m\u001b[0mkind\u001b[0m \u001b[0;34m==\u001b[0m \u001b[0mCursorKind\u001b[0m\u001b[0;34m.\u001b[0m\u001b[0mUSING_DIRECTIVE\u001b[0m\u001b[0;34m:\u001b[0m\u001b[0;34m\u001b[0m\u001b[0;34m\u001b[0m\u001b[0m\n\u001b[0m\u001b[1;32m     31\u001b[0m                 \u001b[0muser_code_started\u001b[0m \u001b[0;34m=\u001b[0m \u001b[0;32mTrue\u001b[0m\u001b[0;34m\u001b[0m\u001b[0;34m\u001b[0m\u001b[0m\n\u001b[1;32m     32\u001b[0m \u001b[0;34m\u001b[0m\u001b[0m\n",
      "\u001b[0;31mNameError\u001b[0m: name 'CursorKind' is not defined"
     ]
    }
   ],
   "source": [
    "ast_parser = AST_parser()\n",
    "ast = ast_parser.parse_ast('../data/subset/cpp_preprocessed/104558927.cpp')"
   ]
  },
  {
   "cell_type": "code",
   "execution_count": null,
   "metadata": {
    "tags": []
   },
   "outputs": [],
   "source": [
    "for pre, fill, node in RenderTree(ast):\n",
    "    treestr = u\"%s%s\" % (pre, node.label)\n",
    "    print(treestr)"
   ]
  },
  {
   "cell_type": "code",
   "execution_count": null,
   "metadata": {},
   "outputs": [],
   "source": [
    "from anytree.exporter import JsonExporter\n",
    "\n",
    "exporter = JsonExporter(indent=2)\n",
    "with open('tree.json', 'w') as file:\n",
    "    file.write(exporter.export(root_node))\n"
   ]
  }
 ],
 "metadata": {
  "kernelspec": {
   "display_name": "Python 3.8.5 64-bit",
   "language": "python",
   "name": "python38564bit231e0d43eb2c433a8f3492e4319da732"
  },
  "language_info": {
   "codemirror_mode": {
    "name": "ipython",
    "version": 3
   },
   "file_extension": ".py",
   "mimetype": "text/x-python",
   "name": "python",
   "nbconvert_exporter": "python",
   "pygments_lexer": "ipython3",
   "version": "3.8.5-final"
  }
 },
 "nbformat": 4,
 "nbformat_minor": 4
}