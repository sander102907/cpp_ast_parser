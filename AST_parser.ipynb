{
 "cells": [
  {
   "cell_type": "code",
   "execution_count": 144,
   "metadata": {},
   "outputs": [],
   "source": [
    "import clang.cindex\n",
    "from clang.cindex import CursorKind\n",
    "from anytree import RenderTree\n",
    "from tree_node import Node\n",
    "import utils\n",
    "from node_handler import *\n",
    "import re\n",
    "import subprocess\n",
    "import pexpect\n",
    "from tqdm import tqdm"
   ]
  },
  {
   "cell_type": "code",
   "execution_count": 4,
   "metadata": {},
   "outputs": [],
   "source": [
    "import pandas as pd"
   ]
  },
  {
   "cell_type": "code",
   "execution_count": 5,
   "metadata": {},
   "outputs": [],
   "source": []
  },
  {
   "cell_type": "code",
   "execution_count": 207,
   "metadata": {},
   "outputs": [
    {
     "output_type": "execute_result",
     "data": {
      "text/plain": [
       "     solutionId  contestId problem programmingLanguage\n",
       "106   104554251       1070       B           GNU C++11"
      ],
      "text/html": "<div>\n<style scoped>\n    .dataframe tbody tr th:only-of-type {\n        vertical-align: middle;\n    }\n\n    .dataframe tbody tr th {\n        vertical-align: top;\n    }\n\n    .dataframe thead th {\n        text-align: right;\n    }\n</style>\n<table border=\"1\" class=\"dataframe\">\n  <thead>\n    <tr style=\"text-align: right;\">\n      <th></th>\n      <th>solutionId</th>\n      <th>contestId</th>\n      <th>problem</th>\n      <th>programmingLanguage</th>\n    </tr>\n  </thead>\n  <tbody>\n    <tr>\n      <th>106</th>\n      <td>104554251</td>\n      <td>1070</td>\n      <td>B</td>\n      <td>GNU C++11</td>\n    </tr>\n  </tbody>\n</table>\n</div>"
     },
     "metadata": {},
     "execution_count": 207
    }
   ],
   "source": [
    "solutions[solutions['solutionId'] == 104554251]"
   ]
  },
  {
   "cell_type": "code",
   "execution_count": 46,
   "metadata": {},
   "outputs": [],
   "source": []
  },
  {
   "cell_type": "code",
   "execution_count": 83,
   "metadata": {},
   "outputs": [],
   "source": []
  },
  {
   "cell_type": "code",
   "execution_count": 84,
   "metadata": {},
   "outputs": [],
   "source": []
  },
  {
   "cell_type": "code",
   "execution_count": 87,
   "metadata": {},
   "outputs": [],
   "source": []
  },
  {
   "cell_type": "code",
   "execution_count": 6,
   "metadata": {},
   "outputs": [],
   "source": [
    "class AST_parser:\n",
    "    def __init__(self, clang_lib_file='/usr/lib/x86_64-linux-gnu/libclang-6.0.so.1'):\n",
    "        try:\n",
    "            clang.cindex.Config.set_library_file(clang_lib_file)\n",
    "        except Exception as e:\n",
    "            print(f'Skipped setting library file: {e}')\n",
    "\n",
    "        self.index = clang.cindex.Index.create()\n",
    "\n",
    "\n",
    "    def parse_ast(self, input_file_path):\n",
    "        tu = self.index.parse(input_file_path)\n",
    "        cursor_items = self.get_cursor_items(tu.cursor)\n",
    "        root_node = Node('root', is_reserved=True)\n",
    "\n",
    "        for cursor_item in cursor_items:\n",
    "            self.parse_item(cursor_item, root_node)\n",
    "\n",
    "        return root_node\n",
    "\n",
    "\n",
    "    def get_cursor_items(self, cursor):\n",
    "        cursor_items = []\n",
    "        user_code_started = False\n",
    "        root_node = Node('root', True)\n",
    "\n",
    "        for child in cursor.get_children():\n",
    "            if user_code_started:\n",
    "                cursor_items.append(child)\n",
    "            if child.kind == CursorKind.USING_DIRECTIVE:\n",
    "                user_code_started = True\n",
    "\n",
    "        return cursor_items\n",
    "\n",
    "\n",
    "    def parse_item(self, ast_item, parent_node):\n",
    "        # skip meaningless AST primitives\n",
    "        if ast_item.kind == CursorKind.DECL_STMT or ast_item.kind == CursorKind.UNEXPOSED_EXPR \\\n",
    "            or ast_item.kind == CursorKind.TEMPLATE_REF or ast_item.kind == CursorKind.NAMESPACE_REF:\n",
    "            pass\n",
    "\n",
    "\n",
    "        # Parse typdef\n",
    "        elif utils.is_typedef(ast_item):\n",
    "            handle_typedef(ast_item, parent_node)\n",
    "\n",
    "\n",
    "        # parse declaration\n",
    "        elif ast_item.kind.is_declaration():\n",
    "            parent_node = handle_declaration(ast_item, parent_node, self.parse_item)\n",
    "\n",
    "        # parse operator\n",
    "        elif utils.is_operator(ast_item):\n",
    "            parent_node = handle_operator(ast_item, parent_node)\n",
    "\n",
    "        # parse literal\n",
    "        elif utils.is_literal(ast_item):\n",
    "            handle_literal(ast_item, parent_node)\n",
    "\n",
    "\n",
    "        # parse call expression\n",
    "        elif utils.is_call_expr(ast_item):\n",
    "            parent_node = handle_call_expr(ast_item, parent_node)\n",
    "\n",
    "\n",
    "        # parse reference\n",
    "        elif utils.is_reference(ast_item):\n",
    "            handle_reference(ast_item, parent_node)\n",
    "        \n",
    "\n",
    "        # parse type ref\n",
    "        elif ast_item.kind == CursorKind.TYPE_REF and parent_node.label != 'root':\n",
    "            handle_type_ref(ast_item, parent_node)\n",
    "\n",
    "\n",
    "        # if not one of the above -> create simple parent node of the kind of the item\n",
    "        else:\n",
    "            parent_node = Node(ast_item.kind.name, is_reserved=True, parent=parent_node)\n",
    "\n",
    "\n",
    "        for child in ast_item.get_children():\n",
    "            if child.kind != CursorKind.PARM_DECL:\n",
    "                self.parse_item(child, parent_node)"
   ]
  },
  {
   "cell_type": "code",
   "execution_count": 7,
   "metadata": {},
   "outputs": [
    {
     "output_type": "stream",
     "name": "stdout",
     "text": [
      "Skipped setting library file: library file must be set before before using any other functionalities in libclang.\n"
     ]
    },
    {
     "output_type": "error",
     "ename": "NameError",
     "evalue": "name 'CursorKind' is not defined",
     "traceback": [
      "\u001b[0;31m---------------------------------------------------------------------------\u001b[0m",
      "\u001b[0;31mNameError\u001b[0m                                 Traceback (most recent call last)",
      "\u001b[0;32m<ipython-input-7-eade49d86f7a>\u001b[0m in \u001b[0;36m<module>\u001b[0;34m\u001b[0m\n\u001b[1;32m      1\u001b[0m \u001b[0mast_parser\u001b[0m \u001b[0;34m=\u001b[0m \u001b[0mAST_parser\u001b[0m\u001b[0;34m(\u001b[0m\u001b[0;34m)\u001b[0m\u001b[0;34m\u001b[0m\u001b[0;34m\u001b[0m\u001b[0m\n\u001b[0;32m----> 2\u001b[0;31m \u001b[0mast\u001b[0m \u001b[0;34m=\u001b[0m \u001b[0mast_parser\u001b[0m\u001b[0;34m.\u001b[0m\u001b[0mparse_ast\u001b[0m\u001b[0;34m(\u001b[0m\u001b[0;34m'../data/subset/cpp_preprocessed/104558927.cpp'\u001b[0m\u001b[0;34m)\u001b[0m\u001b[0;34m\u001b[0m\u001b[0;34m\u001b[0m\u001b[0m\n\u001b[0m",
      "\u001b[0;32m<ipython-input-6-df986837adf3>\u001b[0m in \u001b[0;36mparse_ast\u001b[0;34m(self, input_file_path)\u001b[0m\n\u001b[1;32m     11\u001b[0m     \u001b[0;32mdef\u001b[0m \u001b[0mparse_ast\u001b[0m\u001b[0;34m(\u001b[0m\u001b[0mself\u001b[0m\u001b[0;34m,\u001b[0m \u001b[0minput_file_path\u001b[0m\u001b[0;34m)\u001b[0m\u001b[0;34m:\u001b[0m\u001b[0;34m\u001b[0m\u001b[0;34m\u001b[0m\u001b[0m\n\u001b[1;32m     12\u001b[0m         \u001b[0mtu\u001b[0m \u001b[0;34m=\u001b[0m \u001b[0mself\u001b[0m\u001b[0;34m.\u001b[0m\u001b[0mindex\u001b[0m\u001b[0;34m.\u001b[0m\u001b[0mparse\u001b[0m\u001b[0;34m(\u001b[0m\u001b[0minput_file_path\u001b[0m\u001b[0;34m)\u001b[0m\u001b[0;34m\u001b[0m\u001b[0;34m\u001b[0m\u001b[0m\n\u001b[0;32m---> 13\u001b[0;31m         \u001b[0mcursor_items\u001b[0m \u001b[0;34m=\u001b[0m \u001b[0mself\u001b[0m\u001b[0;34m.\u001b[0m\u001b[0mget_cursor_items\u001b[0m\u001b[0;34m(\u001b[0m\u001b[0mtu\u001b[0m\u001b[0;34m.\u001b[0m\u001b[0mcursor\u001b[0m\u001b[0;34m)\u001b[0m\u001b[0;34m\u001b[0m\u001b[0;34m\u001b[0m\u001b[0m\n\u001b[0m\u001b[1;32m     14\u001b[0m         \u001b[0mroot_node\u001b[0m \u001b[0;34m=\u001b[0m \u001b[0mNode\u001b[0m\u001b[0;34m(\u001b[0m\u001b[0;34m'root'\u001b[0m\u001b[0;34m,\u001b[0m \u001b[0mis_reserved\u001b[0m\u001b[0;34m=\u001b[0m\u001b[0;32mTrue\u001b[0m\u001b[0;34m)\u001b[0m\u001b[0;34m\u001b[0m\u001b[0;34m\u001b[0m\u001b[0m\n\u001b[1;32m     15\u001b[0m \u001b[0;34m\u001b[0m\u001b[0m\n",
      "\u001b[0;32m<ipython-input-6-df986837adf3>\u001b[0m in \u001b[0;36mget_cursor_items\u001b[0;34m(self, cursor)\u001b[0m\n\u001b[1;32m     28\u001b[0m             \u001b[0;32mif\u001b[0m \u001b[0muser_code_started\u001b[0m\u001b[0;34m:\u001b[0m\u001b[0;34m\u001b[0m\u001b[0;34m\u001b[0m\u001b[0m\n\u001b[1;32m     29\u001b[0m                 \u001b[0mcursor_items\u001b[0m\u001b[0;34m.\u001b[0m\u001b[0mappend\u001b[0m\u001b[0;34m(\u001b[0m\u001b[0mchild\u001b[0m\u001b[0;34m)\u001b[0m\u001b[0;34m\u001b[0m\u001b[0;34m\u001b[0m\u001b[0m\n\u001b[0;32m---> 30\u001b[0;31m             \u001b[0;32mif\u001b[0m \u001b[0mchild\u001b[0m\u001b[0;34m.\u001b[0m\u001b[0mkind\u001b[0m \u001b[0;34m==\u001b[0m \u001b[0mCursorKind\u001b[0m\u001b[0;34m.\u001b[0m\u001b[0mUSING_DIRECTIVE\u001b[0m\u001b[0;34m:\u001b[0m\u001b[0;34m\u001b[0m\u001b[0;34m\u001b[0m\u001b[0m\n\u001b[0m\u001b[1;32m     31\u001b[0m                 \u001b[0muser_code_started\u001b[0m \u001b[0;34m=\u001b[0m \u001b[0;32mTrue\u001b[0m\u001b[0;34m\u001b[0m\u001b[0;34m\u001b[0m\u001b[0m\n\u001b[1;32m     32\u001b[0m \u001b[0;34m\u001b[0m\u001b[0m\n",
      "\u001b[0;31mNameError\u001b[0m: name 'CursorKind' is not defined"
     ]
    }
   ],
   "source": [
    "ast_parser = AST_parser()\n",
    "ast = ast_parser.parse_ast('../data/subset/cpp_preprocessed/104558927.cpp')"
   ]
  },
  {
   "cell_type": "code",
   "execution_count": null,
   "metadata": {
    "tags": []
   },
   "outputs": [],
   "source": [
    "for pre, fill, node in RenderTree(ast):\n",
    "    treestr = u\"%s%s\" % (pre, node.label)\n",
    "    print(treestr)"
   ]
  },
  {
   "cell_type": "code",
   "execution_count": null,
   "metadata": {},
   "outputs": [],
   "source": [
    "from anytree.exporter import JsonExporter\n",
    "\n",
    "exporter = JsonExporter(indent=2)\n",
    "with open('tree.json', 'w') as file:\n",
    "    file.write(exporter.export(root_node))\n"
   ]
  },
  {
   "cell_type": "code",
   "execution_count": 124,
   "metadata": {},
   "outputs": [
    {
     "output_type": "stream",
     "name": "stdout",
     "text": [
      "['104554194.cpp', '104554251.cpp', '104558927.cpp', '104560220.cpp', '104604737.cpp', '104606100.cpp', '104663473.cpp', '104696038.cpp', '104759177.cpp', '104759215.cpp', '104760965.cpp', '104766018.cpp', '104930101.cpp', '104931090.cpp', '104939468.cpp', '105028826.cpp', '105052007.cpp', '105066757.cpp', '105085785.cpp', '105087511.cpp', '105087586.cpp', '105113472.cpp', '105121226.cpp', '105129923.cpp', '106067757.cpp', '106076703.cpp', '106076991.cpp', '106079532.cpp', '106079587.cpp', '106081350.cpp', '106081812.cpp', '106085118.cpp', '106098695.cpp', '106181322.cpp', '106187233.cpp', '106188303.cpp', '106207179.cpp', '106209681.cpp', '106210901.cpp', '106210928.cpp', '106219172.cpp', '106283598.cpp', '106293015.cpp', '106295849.cpp', '106389953.cpp', '106395892.cpp', '106456255.cpp', '106461660.cpp', '106504120.cpp', '106508975.cpp', '106509000.cpp', '106534201.cpp', '106612149.cpp', '106637474.cpp', '106643718.cpp', '106696279.cpp', '106697152.cpp', '106701857.cpp', '106705445.cpp', '106719233.cpp', '106740457.cpp', '106740500.cpp', '106815166.cpp', '106821393.cpp', '106966818.cpp', '107004724.cpp', '105135262.cpp', '105140380.cpp', '105142695.cpp', '105142815.cpp', '105143098.cpp', '105143318.cpp', '105146112.cpp', '105146358.cpp', '105152327.cpp', '105157665.cpp', '105191874.cpp', '105192388.cpp', '105193188.cpp', '105207067.cpp', '105209007.cpp', '105134922.cpp', '105217406.cpp', '106015559.cpp', '106429029.cpp', '105222885.cpp', '105222974.cpp', '105224563.cpp', '105234242.cpp', '105292475.cpp', '105295149.cpp', '105449908.cpp', '105450666.cpp', '105497163.cpp', '105566803.cpp', '105569082.cpp', '105841196.cpp', '105972598.cpp', '105984601.cpp', '105992703.cpp']\n"
     ]
    }
   ],
   "source": [
    "for _,_,files in os.walk('../data/subset/ast_trees_to_code/'):\n",
    "    print(files)"
   ]
  },
  {
   "cell_type": "code",
   "execution_count": 141,
   "metadata": {},
   "outputs": [
    {
     "output_type": "stream",
     "name": "stdout",
     "text": [
      "     solutionId  contestId problem programmingLanguage\n107   104554194       1070       B           GNU C++11\n"
     ]
    },
    {
     "output_type": "execute_result",
     "data": {
      "text/plain": [
       "\"[('1\\\\n-149.154.167.99', '1\\\\n0.0.0.0/0'), ('4\\\\n-149.154.167.99\\\\n+149.154.167.100/30\\\\n+149.154.167.128/25\\\\n-149.154.167.120/29', '2\\\\n149.154.167.96/30\\\\n149.154.167.112/28'), ('5\\\\n-127.0.0.4/31\\\\n+127.0.0.8\\\\n+127.0.0.0/30\\\\n-195.82.146.208/29\\\\n-127.0.0.6/31', '2\\\\n127.0.0.4/30\\\\n128.0.0.0/1'), ('2\\\\n+127.0.0.1/32\\\\n-127.0.0.1', '-1'), ('1\\\\n-0.0.0.0/32', '1\\\\n0.0.0.0/0'), ('1\\\\n-0.0.0.10', '1\\\\n0.0.0.0/0'), ('1\\\\n-0.0.0.1', '1\\\\n0.0.0.0/0'), ('1\\\\n-0.0.0.13/32', '1\\\\n0.0.0.0/0'), ('1\\\\n-0.0.0.7', '1\\\\n0.0.0.0/0'),\""
      ]
     },
     "metadata": {},
     "execution_count": 141
    }
   ],
   "source": [
    "solution = 104554194\n",
    "\n",
    "\n",
    "solutions[solutions['solutionId'] == solution]\n",
    "solution_data = solutions[solutions['solutionId'] == solution]\n",
    "\n",
    "tests = problems[(problems['contestId'] == solution_data['contestId'].iloc[0]) & (problems['problem'] == solution_data['problem'].iloc[0])]['allTests'].iloc[0]\n",
    "print(solution_data)\n",
    "tests[:500]"
   ]
  },
  {
   "source": [],
   "cell_type": "code",
   "metadata": {
    "tags": []
   },
   "execution_count": null,
   "outputs": []
  },
  {
   "cell_type": "code",
   "execution_count": 221,
   "metadata": {},
   "outputs": [
    {
     "output_type": "stream",
     "name": "stdout",
     "text": [
      "0\n15\n3337\n"
     ]
    }
   ],
   "source": [
    "print(len(not_compiled))\n",
    "print(len(tests_failed))\n",
    "print(len(success))\n"
   ]
  },
  {
   "cell_type": "code",
   "execution_count": 225,
   "metadata": {},
   "outputs": [
    {
     "output_type": "execute_result",
     "data": {
      "text/plain": [
       "86"
      ]
     },
     "metadata": {},
     "execution_count": 225
    }
   ],
   "source": [
    "len(set(success))"
   ]
  }
 ],
 "metadata": {
  "kernelspec": {
   "display_name": "Python 3.8.5 64-bit",
   "language": "python",
   "name": "python38564bit231e0d43eb2c433a8f3492e4319da732"
  },
  "language_info": {
   "codemirror_mode": {
    "name": "ipython",
    "version": 3
   },
   "file_extension": ".py",
   "mimetype": "text/x-python",
   "name": "python",
   "nbconvert_exporter": "python",
   "pygments_lexer": "ipython3",
   "version": "3.8.5-final"
  }
 },
 "nbformat": 4,
 "nbformat_minor": 4
}